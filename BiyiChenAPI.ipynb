{
 "cells": [
  {
   "cell_type": "code",
   "execution_count": 2,
   "metadata": {},
   "outputs": [
    {
     "name": "stdout",
     "output_type": "stream",
     "text": [
      "Name:Airlines-PandasSQL-Project\n",
      "Name:DC_street_alley_R_Shiny_Project\n",
      "Name:energysaving\n",
      "Name:Kaggle_data_analysis_project\n",
      "Name:logistic-regression-python\n",
      "Name:new\n",
      "Name:R_shiny_Project\n",
      "Name:STOCK-TRANSACTIONS\n",
      "Name:text_mining_python_project\n",
      "Name:travel-site\n",
      "Name:Winery_Kaggle_Data_Analysis\n",
      "Name:YELP_ANALYSIS\n"
     ]
    }
   ],
   "source": [
    "import requests \n",
    "  \n",
    "# api-endpoint \n",
    "URL = \"https://api.github.com/users/biyichen/repos\"\n",
    "  \n",
    "# sending get request and saving the response as response object \n",
    "r = requests.get(url = URL) \n",
    "  \n",
    "# extracting data in json format \n",
    "data = r.json() \n",
    "  \n",
    "for element in data:\n",
    " print(\"Name:%s\" %(element['name']))"
   ]
  },
  {
   "cell_type": "code",
   "execution_count": null,
   "metadata": {},
   "outputs": [],
   "source": []
  }
 ],
 "metadata": {
  "kernelspec": {
   "display_name": "Python 3",
   "language": "python",
   "name": "python3"
  },
  "language_info": {
   "codemirror_mode": {
    "name": "ipython",
    "version": 3
   },
   "file_extension": ".py",
   "mimetype": "text/x-python",
   "name": "python",
   "nbconvert_exporter": "python",
   "pygments_lexer": "ipython3",
   "version": "3.6.3"
  }
 },
 "nbformat": 4,
 "nbformat_minor": 2
}
